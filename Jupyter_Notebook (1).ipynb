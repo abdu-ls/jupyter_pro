{
 "cells": [
  {
   "cell_type": "markdown",
   "metadata": {},
   "source": [
    "<center>\n",
    "    <img src=\"https://s3-api.us-geo.objectstorage.softlayer.net/cf-courses-data/CognitiveClass/Logos/organization_logo/organization_logo.png\" width=\"300\" alt=\"cognitiveclass.ai logo\"  />\n",
    "</center>\n"
   ]
  },
  {
   "cell_type": "markdown",
   "metadata": {},
   "source": [
    "#### Add your code below following the instructions given in the course\n"
   ]
  },
  {
   "cell_type": "markdown",
   "metadata": {},
   "source": [
    "<h1> My Jupyter Notebook on IBM Watson Studio </h1>"
   ]
  },
  {
   "cell_type": "markdown",
   "metadata": {},
   "source": [
    " <p><strong> ABDUL SAMED SEIDU </strong> <br> Software Engineer </p>"
   ]
  },
  {
   "cell_type": "markdown",
   "metadata": {},
   "source": [
    "<p><em> I am interested in data science because I want to be a professional software engineer, and I will need data science as part of my profession. Where I will be involved in data analysis, problem prediction and solutions, data manipulation and many others activities.</em></p>"
   ]
  },
  {
   "cell_type": "markdown",
   "metadata": {
    "tags": []
   },
   "source": [
    "<h3> Output: 3 word name. abdul samed and seidu </h3>"
   ]
  },
  {
   "cell_type": "code",
   "execution_count": 7,
   "metadata": {},
   "outputs": [
    {
     "name": "stdout",
     "output_type": "stream",
     "text": [
      "my name is  3 word name, the name is \n",
      "abdul\n",
      "samed\n",
      "seidu\n"
     ]
    }
   ],
   "source": [
    "name = ['abdul', 'samed', 'seidu']\n",
    "print(\"my name is \",len(name), \"word name, the name is \")\n",
    "for item in name:\n",
    "    print(item)"
   ]
  },
  {
   "cell_type": "markdown",
   "metadata": {},
   "source": [
    "<hr> \n",
    " <p> This is my dp </p>\n",
    " <img src=\" \"/>\n",
    " <a href=\"coursera.org\"> Abdu_l </a>\n",
    " <hr> \n",
    " <div>\n",
    "    <h4> Languages </h4>\n",
    "     <ol>\n",
    "        <li>English: Fluent</li>\n",
    "        <li>French: Beginer</li>\n",
    "        <li>Arabic: Brginer</li>\n",
    "        <li><strike>Chinese</strike></li>\n",
    "     </ol>\n",
    "    <h4> Courses Offered </h4>\n",
    "     <ul>\n",
    "        <li>Programming with JavaScript</li>\n",
    "        <li>Intro. to Mobile Dev.</li>\n",
    "        <li>Data Science</li>\n",
    "        <li><strike> Meta React Native </strike></li>\n",
    "     </ul>\n",
    " </div>\n"
   ]
  },
  {
   "cell_type": "code",
   "execution_count": null,
   "metadata": {},
   "outputs": [],
   "source": []
  }
 ],
 "metadata": {
  "kernelspec": {
   "display_name": "Python",
   "language": "python",
   "name": "conda-env-python-py"
  },
  "language_info": {
   "codemirror_mode": {
    "name": "ipython",
    "version": 3
   },
   "file_extension": ".py",
   "mimetype": "text/x-python",
   "name": "python",
   "nbconvert_exporter": "python",
   "pygments_lexer": "ipython3",
   "version": "3.7.12"
  }
 },
 "nbformat": 4,
 "nbformat_minor": 4
}
